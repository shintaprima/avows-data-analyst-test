{
 "cells": [
  {
   "cell_type": "markdown",
   "id": "ee38380b",
   "metadata": {},
   "source": [
    "## Import library"
   ]
  },
  {
   "cell_type": "code",
   "execution_count": null,
   "id": "d559bc0c",
   "metadata": {},
   "outputs": [],
   "source": [
    "import pandas as pd\n",
    "import sqlite3\n",
    "import duckdb\n",
    "import os\n"
   ]
  },
  {
   "cell_type": "markdown",
   "id": "dcfd8bbb",
   "metadata": {},
   "source": [
    "## Load & print to csv"
   ]
  },
  {
   "cell_type": "markdown",
   "id": "6ca5f18a",
   "metadata": {},
   "source": [
    "csv file output used for data source in Looker Studio"
   ]
  },
  {
   "cell_type": "code",
   "execution_count": null,
   "id": "c67d64d9",
   "metadata": {},
   "outputs": [
    {
     "data": {
      "application/vnd.jupyter.widget-view+json": {
       "model_id": "04944569b2c244d38d9bff8006897a26",
       "version_major": 2,
       "version_minor": 0
      },
      "text/plain": [
       "FloatProgress(value=0.0, layout=Layout(width='auto'), style=ProgressStyle(bar_color='black'))"
      ]
     },
     "metadata": {},
     "output_type": "display_data"
    },
    {
     "name": "stdout",
     "output_type": "stream",
     "text": [
      "⏳ Processing: sql/dm_users.sql\n",
      "✅ Exported: output/dm_users.csv\n",
      "⏳ Processing: sql/dm_cards.sql\n",
      "✅ Exported: output/dm_cards.csv\n",
      "⏳ Processing: sql/dm_trx_card.sql\n",
      "✅ Exported: output/dm_trx_card.csv\n",
      "⏳ Processing: sql/dm_trx_overview.sql\n",
      "✅ Exported: output/dm_trx_overview.csv\n",
      "⏳ Processing: sql/dm_trx_trend.sql\n",
      "✅ Exported: output/dm_trx_trend.csv\n",
      "⏳ Processing: sql/dm_trx_user.sql\n",
      "✅ Exported: output/dm_trx_user.csv\n"
     ]
    }
   ],
   "source": [
    "# 1. Connect to DuckDB\n",
    "conn = duckdb.connect()\n",
    "\n",
    "# 2. Load table CSV\n",
    "conn.execute(\"CREATE TABLE avo_users_data AS SELECT * FROM read_csv_auto('dataset/avo_users_data.csv');\")\n",
    "conn.execute(\"CREATE TABLE avo_cards_data AS SELECT * FROM read_csv_auto('dataset/avo_cards_data.csv');\")\n",
    "conn.execute(\"CREATE OR REPLACE TABLE avo_transactions_data AS SELECT * FROM read_csv_auto('dataset/avo_transactions_data.csv',\\\n",
    "        ignore_errors=true);\")\n",
    "\n",
    "# 3. Location file SQL & output CSV\n",
    "sql_files = [\n",
    "    (\"sql/dm_users.sql\", \"output/dm_users.csv\"),\n",
    "    (\"sql/dm_cards.sql\", \"output/dm_cards.csv\"),\n",
    "#    (\"sql/dm_transactions.sql\", \"output/dm_transactions.csv\")\n",
    "    (\"sql/dm_trx_card.sql\",\"output/dm_trx_card.csv\"),\n",
    "    (\"sql/dm_trx_overview.sql\",\"output/dm_trx_overview.csv\"),\n",
    "    (\"sql/dm_trx_trend.sql\",\"output/dm_trx_trend.csv\"),\n",
    "    (\"sql/dm_trx_user.sql\",\"output/dm_trx_user.csv\")\n",
    "]\n",
    "\n",
    "# 4. Loop to read & export\n",
    "for sql_file, csv_file in sql_files:\n",
    "    print(f\"⏳ Processing: {sql_file}\")\n",
    "\n",
    "    with open(sql_file, 'r') as f:\n",
    "        query = f.read()\n",
    "    \n",
    "    try:\n",
    "        conn.execute(f\"COPY ({query}) TO '{csv_file}' WITH (HEADER, DELIMITER ',');\")\n",
    "        print(f\"✅ Exported: {csv_file}\")\n",
    "    \n",
    "    except Exception as e:\n",
    "        print(f\"❌ Error on {sql_file}: {e}\")\n"
   ]
  }
 ],
 "metadata": {
  "kernelspec": {
   "display_name": "base",
   "language": "python",
   "name": "python3"
  },
  "language_info": {
   "codemirror_mode": {
    "name": "ipython",
    "version": 3
   },
   "file_extension": ".py",
   "mimetype": "text/x-python",
   "name": "python",
   "nbconvert_exporter": "python",
   "pygments_lexer": "ipython3",
   "version": "3.10.11"
  }
 },
 "nbformat": 4,
 "nbformat_minor": 5
}
